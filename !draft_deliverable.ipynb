{
 "cells": [
  {
   "attachments": {},
   "cell_type": "markdown",
   "metadata": {},
   "source": [
    "# **Dollars and Sense: Optimizing Bank Marketing Campaigns**"
   ]
  },
  {
   "attachments": {},
   "cell_type": "markdown",
   "metadata": {},
   "source": [
    "\n",
    "<div style=\"text-align:center\">\n",
    "    <img src=\"Images/fintech_banner.jpg\" style=\"width: 50%; border-radius: 10px;\"/>\n",
    "</div>\n"
   ]
  },
  {
   "attachments": {},
   "cell_type": "markdown",
   "metadata": {},
   "source": [
    "### **Table of Contents**\n",
    "\n",
    "1. [Introduction](#Introduction)\n",
    "2. [Data](#Data)\n",
    "3. [Exploratory Data Analysis](#Exploratory-Data-Analysis)\n",
    "4. [Data Preprocessing](#Data-Preprocessing)\n",
    "5. [Modeling](#Modeling)\n",
    "6. [Model Evaluation](#Model-Evaluation)\n",
    "7. [Conclusion](#Conclusion)\n",
    "8. [References](#References)\n"
   ]
  },
  {
   "attachments": {},
   "cell_type": "markdown",
   "metadata": {},
   "source": [
    "<a id='Introduction'></a>\n",
    "\n",
    "### **Introduction**\n",
    "\n",
    "This machine learning project does a deep dive into a bank marketing dataset to understand what featuers are most important to a marketing campaign's success\n",
    "\n",
    "The project has the following objectives:\n",
    "\n",
    "1. *Determine feature importance*\n",
    "    - Find out which features contribute the most to customer acquisition\n",
    "2. *Build an optimized model*\n",
    "    - To build a model that can predict whether a customer will subscribe to a term deposit or not, and\n",
    "3. *Develop a no code app*\n",
    "    - To be used my marketing teams to determine the probability an interaction will result in a customer subscribing to a term deposit\n"
   ]
  },
  {
   "attachments": {},
   "cell_type": "markdown",
   "metadata": {},
   "source": [
    "<a id='Data'></a>\n",
    "\n",
    "### **Data**"
   ]
  },
  {
   "attachments": {},
   "cell_type": "markdown",
   "metadata": {},
   "source": []
  }
 ],
 "metadata": {
  "kernelspec": {
   "display_name": "Python 3",
   "language": "python",
   "name": "python3"
  },
  "language_info": {
   "codemirror_mode": {
    "name": "ipython",
    "version": 3
   },
   "file_extension": ".py",
   "mimetype": "text/x-python",
   "name": "python",
   "nbconvert_exporter": "python",
   "pygments_lexer": "ipython3",
   "version": "3.11.0"
  },
  "orig_nbformat": 4
 },
 "nbformat": 4,
 "nbformat_minor": 2
}

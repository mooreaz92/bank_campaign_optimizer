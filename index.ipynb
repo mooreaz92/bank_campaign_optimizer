{
 "cells": [
  {
   "attachments": {},
   "cell_type": "markdown",
   "metadata": {},
   "source": [
    "# Capstone - Optimizing Bank Marketing Campaigns with Machine Learning"
   ]
  },
  {
   "attachments": {},
   "cell_type": "markdown",
   "metadata": {},
   "source": [
    "### *Importing Libraries and Data*"
   ]
  },
  {
   "cell_type": "code",
   "execution_count": 1,
   "metadata": {},
   "outputs": [],
   "source": [
    "### Importing relevant libraries\n",
    "\n",
    "import pandas as pd\n",
    "import numpy as np\n",
    "import matplotlib.pyplot as plt\n",
    "import seaborn as sns\n",
    "import warnings\n",
    "from sklearn.model_selection import train_test_split\n",
    "from sklearn.linear_model import LogisticRegression, LogisticRegressionCV\n",
    "from sklearn.metrics import accuracy_score, confusion_matrix, classification_report, f1_score, roc_auc_score, roc_curve\n",
    "from sklearn.preprocessing import StandardScaler\n",
    "from sklearn.ensemble import RandomForestClassifier\n",
    "from sklearn.model_selection import GridSearchCV\n",
    "\n",
    "warnings.filterwarnings('ignore')\n",
    "%matplotlib inline"
   ]
  },
  {
   "cell_type": "code",
   "execution_count": 2,
   "metadata": {},
   "outputs": [],
   "source": [
    "### Importing the combined data set\n",
    "\n",
    "df = pd.read_csv('Data/bank-additional-combined.csv')"
   ]
  },
  {
   "attachments": {},
   "cell_type": "markdown",
   "metadata": {},
   "source": [
    "### *Exploratory Data Analysis*"
   ]
  },
  {
   "cell_type": "code",
   "execution_count": 3,
   "metadata": {},
   "outputs": [
    {
     "data": {
      "image/png": "[encoded data removed]",
      "text/plain": [
       "<Figure size 500x300 with 1 Axes>"
      ]
     },
     "metadata": {},
     "output_type": "display_data"
    }
   ],
   "source": [
    "### Visualizing the amount of 'unknown' values in a bar chart\n",
    "\n",
    "unknowns = df.isin(['unknown']).sum()\n",
    "unknowns = unknowns[unknowns > 0]\n",
    "unknowns = unknowns.sort_values(ascending=False)\n",
    "\n",
    "plt.figure(figsize=(5, 3))\n",
    "sns.set_style('darkgrid')\n",
    "sns.barplot(x=unknowns.index, y=unknowns.values, palette='Blues_d')\n",
    "plt.xticks(rotation=90)\n",
    "plt.title('Amount of Unknown Values in Each Column', fontsize=8)\n",
    "plt.xlabel('Column', fontsize=6)\n",
    "plt.ylabel('Amount of Unknown Values', fontsize=6)\n",
    "plt.show()"
   ]
  },
  {
   "attachments": {},
   "cell_type": "markdown",
   "metadata": {},
   "source": [
    "### *Data Cleaning Functions*"
   ]
  },
  {
   "cell_type": "code",
   "execution_count": 4,
   "metadata": {},
   "outputs": [],
   "source": [
    "### Casting job, martial, education, default, housing, loan, contact, month, day_of_week, poutcome, and y to categorical variables\n",
    "\n",
    "columns_to_categorize = ['job', 'marital', 'education', 'default', 'housing', 'loan', 'contact', 'month', 'day_of_week', 'poutcome', 'y']\n",
    "\n",
    "def cast_as_columns(df):\n",
    "    for column in columns_to_categorize:\n",
    "        df[column] = df[column].astype('category')\n",
    "    return df\n",
    "\n",
    "### Writing a function that provides ordinal encoding for education, in order of: unknown, illiterate, basic.4y, basic.6y, basic.9y, high.school, professional.course, university.degree\n",
    "\n",
    "def ordinal_encode_education(df):\n",
    "    df['education'] = df['education'].cat.reorder_categories(['unknown', 'illiterate', 'basic.4y', 'basic.6y', 'basic.9y', 'high.school', 'professional.course', 'university.degree'])\n",
    "    df['education'] = df['education'].cat.codes\n",
    "    return df\n",
    "\n",
    "### Writing a function that drops duration, as it is not known before a call is made\n",
    "\n",
    "def drop_duration(df):\n",
    "    df = df.drop('duration', axis=1)\n",
    "    return df\n",
    "\n",
    "### Writing a function that combines the above functions\n",
    "\n",
    "def clean_data(df):\n",
    "    df = cast_as_columns(df)\n",
    "    df = ordinal_encode_education(df)\n",
    "    df = drop_duration(df)\n",
    "    return df"
   ]
  },
  {
   "attachments": {},
   "cell_type": "markdown",
   "metadata": {},
   "source": [
    "### *Data Cleaning and Segmentation*"
   ]
  },
  {
   "cell_type": "code",
   "execution_count": 5,
   "metadata": {},
   "outputs": [],
   "source": [
    "### Writing a function that has splits the data into a client dataframe, a campaign dataframe, and an external factors dataframe\n",
    "\n",
    "client_columns = ['age', 'job', 'marital', 'education', 'default', 'housing', 'loan', 'y']\n",
    "campaign_columns = ['contact', 'month', 'day_of_week', 'campaign', 'pdays', 'previous', 'poutcome', 'y']\n",
    "external_columns = ['emp.var.rate', 'cons.price.idx', 'cons.conf.idx', 'euribor3m', 'nr.employed', 'y']\n",
    "\n",
    "def split_data(df):\n",
    "    client_df = df[client_columns]\n",
    "    campaign_df = df[campaign_columns]\n",
    "    external_df = df[external_columns]\n",
    "    return client_df, campaign_df, external_df\n",
    "\n",
    "### Writing a function that one-hot encodes only the categorical variables in a dataframe\n",
    "\n",
    "def one_hot_encode(df):\n",
    "    df = pd.get_dummies(df, columns=df.select_dtypes('category').columns, drop_first=True)\n",
    "    return df"
   ]
  },
  {
   "cell_type": "code",
   "execution_count": 6,
   "metadata": {},
   "outputs": [
    {
     "ename": "KeyError",
     "evalue": "\"['job', 'marital', 'education', 'default', 'housing', 'loan', 'y'] not in index\"",
     "output_type": "error",
     "traceback": [
      "\u001b[1;31m---------------------------------------------------------------------------\u001b[0m",
      "\u001b[1;31mKeyError\u001b[0m                                  Traceback (most recent call last)",
      "Cell \u001b[1;32mIn[6], line 3\u001b[0m\n\u001b[0;32m      1\u001b[0m \u001b[39m### Applying the segmentation function to the data set\u001b[39;00m\n\u001b[1;32m----> 3\u001b[0m client_df, campaign_df, external_df \u001b[39m=\u001b[39m split_data(clean_data(df))\n",
      "Cell \u001b[1;32mIn[5], line 8\u001b[0m, in \u001b[0;36msplit_data\u001b[1;34m(df)\u001b[0m\n\u001b[0;32m      7\u001b[0m \u001b[39mdef\u001b[39;00m \u001b[39msplit_data\u001b[39m(df):\n\u001b[1;32m----> 8\u001b[0m     client_df \u001b[39m=\u001b[39m df[client_columns]\n\u001b[0;32m      9\u001b[0m     campaign_df \u001b[39m=\u001b[39m df[campaign_columns]\n\u001b[0;32m     10\u001b[0m     external_df \u001b[39m=\u001b[39m df[external_columns]\n",
      "File \u001b[1;32mc:\\Users\\moore\\AppData\\Local\\Programs\\Python\\Python311\\Lib\\site-packages\\pandas\\core\\frame.py:3813\u001b[0m, in \u001b[0;36mDataFrame.__getitem__\u001b[1;34m(self, key)\u001b[0m\n\u001b[0;32m   3811\u001b[0m     \u001b[39mif\u001b[39;00m is_iterator(key):\n\u001b[0;32m   3812\u001b[0m         key \u001b[39m=\u001b[39m \u001b[39mlist\u001b[39m(key)\n\u001b[1;32m-> 3813\u001b[0m     indexer \u001b[39m=\u001b[39m \u001b[39mself\u001b[39;49m\u001b[39m.\u001b[39;49mcolumns\u001b[39m.\u001b[39;49m_get_indexer_strict(key, \u001b[39m\"\u001b[39;49m\u001b[39mcolumns\u001b[39;49m\u001b[39m\"\u001b[39;49m)[\u001b[39m1\u001b[39m]\n\u001b[0;32m   3815\u001b[0m \u001b[39m# take() does not accept boolean indexers\u001b[39;00m\n\u001b[0;32m   3816\u001b[0m \u001b[39mif\u001b[39;00m \u001b[39mgetattr\u001b[39m(indexer, \u001b[39m\"\u001b[39m\u001b[39mdtype\u001b[39m\u001b[39m\"\u001b[39m, \u001b[39mNone\u001b[39;00m) \u001b[39m==\u001b[39m \u001b[39mbool\u001b[39m:\n",
      "File \u001b[1;32mc:\\Users\\moore\\AppData\\Local\\Programs\\Python\\Python311\\Lib\\site-packages\\pandas\\core\\indexes\\base.py:6070\u001b[0m, in \u001b[0;36mIndex._get_indexer_strict\u001b[1;34m(self, key, axis_name)\u001b[0m\n\u001b[0;32m   6067\u001b[0m \u001b[39melse\u001b[39;00m:\n\u001b[0;32m   6068\u001b[0m     keyarr, indexer, new_indexer \u001b[39m=\u001b[39m \u001b[39mself\u001b[39m\u001b[39m.\u001b[39m_reindex_non_unique(keyarr)\n\u001b[1;32m-> 6070\u001b[0m \u001b[39mself\u001b[39;49m\u001b[39m.\u001b[39;49m_raise_if_missing(keyarr, indexer, axis_name)\n\u001b[0;32m   6072\u001b[0m keyarr \u001b[39m=\u001b[39m \u001b[39mself\u001b[39m\u001b[39m.\u001b[39mtake(indexer)\n\u001b[0;32m   6073\u001b[0m \u001b[39mif\u001b[39;00m \u001b[39misinstance\u001b[39m(key, Index):\n\u001b[0;32m   6074\u001b[0m     \u001b[39m# GH 42790 - Preserve name from an Index\u001b[39;00m\n",
      "File \u001b[1;32mc:\\Users\\moore\\AppData\\Local\\Programs\\Python\\Python311\\Lib\\site-packages\\pandas\\core\\indexes\\base.py:6133\u001b[0m, in \u001b[0;36mIndex._raise_if_missing\u001b[1;34m(self, key, indexer, axis_name)\u001b[0m\n\u001b[0;32m   6130\u001b[0m     \u001b[39mraise\u001b[39;00m \u001b[39mKeyError\u001b[39;00m(\u001b[39mf\u001b[39m\u001b[39m\"\u001b[39m\u001b[39mNone of [\u001b[39m\u001b[39m{\u001b[39;00mkey\u001b[39m}\u001b[39;00m\u001b[39m] are in the [\u001b[39m\u001b[39m{\u001b[39;00maxis_name\u001b[39m}\u001b[39;00m\u001b[39m]\u001b[39m\u001b[39m\"\u001b[39m)\n\u001b[0;32m   6132\u001b[0m not_found \u001b[39m=\u001b[39m \u001b[39mlist\u001b[39m(ensure_index(key)[missing_mask\u001b[39m.\u001b[39mnonzero()[\u001b[39m0\u001b[39m]]\u001b[39m.\u001b[39munique())\n\u001b[1;32m-> 6133\u001b[0m \u001b[39mraise\u001b[39;00m \u001b[39mKeyError\u001b[39;00m(\u001b[39mf\u001b[39m\u001b[39m\"\u001b[39m\u001b[39m{\u001b[39;00mnot_found\u001b[39m}\u001b[39;00m\u001b[39m not in index\u001b[39m\u001b[39m\"\u001b[39m)\n",
      "\u001b[1;31mKeyError\u001b[0m: \"['job', 'marital', 'education', 'default', 'housing', 'loan', 'y'] not in index\""
     ]
    }
   ],
   "source": [
    "### Applying the segmentation function to the data set\n",
    "\n",
    "client_df, campaign_df, external_df = split_data(clean_data(df))"
   ]
  },
  {
   "attachments": {},
   "cell_type": "markdown",
   "metadata": {},
   "source": [
    "### *Segment: Client data Predictive Power Analysis*"
   ]
  },
  {
   "cell_type": "code",
   "execution_count": null,
   "metadata": {},
   "outputs": [],
   "source": [
    "client_df.head()"
   ]
  },
  {
   "cell_type": "code",
   "execution_count": null,
   "metadata": {},
   "outputs": [],
   "source": [
    "### Performing a train-test split on the client dataframe\n",
    "\n",
    "X = client_df.drop('y', axis=1)\n",
    "y = client_df['y']\n",
    "\n",
    "X_train, X_test, y_train, y_test = train_test_split(X, y, test_size=0.2, random_state=42)"
   ]
  },
  {
   "cell_type": "code",
   "execution_count": null,
   "metadata": {},
   "outputs": [],
   "source": [
    "### Fitting and getting the cross-validated accuracy score of a logistic regression model\n",
    "\n",
    "logreg = LogisticRegressionCV(cv=5, random_state=42, max_iter=1000)\n",
    "logreg.fit(X_train, y_train)\n",
    "logreg.score(X_test, y_test)\n",
    "\n",
    "### Getting the accuracy score, confusion matrix, classification report, and f1 score of the logistic regression model\n",
    "\n",
    "y_pred = logreg.predict(X_test)\n",
    "\n",
    "print('Accuracy Score: ', accuracy_score(y_test, y_pred))\n",
    "print('Confusion Matrix: ', confusion_matrix(y_test, y_pred))\n",
    "print('Classification Report: ', classification_report(y_test, y_pred))\n",
    "print('F1 Score: ', f1_score(y_test, y_pred))\n"
   ]
  },
  {
   "cell_type": "code",
   "execution_count": null,
   "metadata": {},
   "outputs": [],
   "source": []
  }
 ],
 "metadata": {
  "kernelspec": {
   "display_name": "Python 3",
   "language": "python",
   "name": "python3"
  },
  "language_info": {
   "codemirror_mode": {
    "name": "ipython",
    "version": 3
   },
   "file_extension": ".py",
   "mimetype": "text/x-python",
   "name": "python",
   "nbconvert_exporter": "python",
   "pygments_lexer": "ipython3",
   "version": "3.11.0"
  },
  "orig_nbformat": 4
 },
 "nbformat": 4,
 "nbformat_minor": 2
}

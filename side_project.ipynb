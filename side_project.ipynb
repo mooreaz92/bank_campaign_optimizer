{
 "cells": [
  {
   "attachments": {},
   "cell_type": "markdown",
   "metadata": {},
   "source": [
    "# Capstone - Optimizing Bank Marketing Campaigns with Machine Learning"
   ]
  },
  {
   "attachments": {},
   "cell_type": "markdown",
   "metadata": {},
   "source": [
    "### *Importing Libraries and Data*"
   ]
  },
  {
   "cell_type": "code",
   "execution_count": 11,
   "metadata": {},
   "outputs": [],
   "source": [
    "### Importing relevant libraries\n",
    "\n",
    "import pandas as pd\n",
    "import numpy as np\n",
    "import matplotlib.pyplot as plt\n",
    "import seaborn as sns\n",
    "import warnings\n",
    "from sklearn.model_selection import train_test_split\n",
    "from sklearn.linear_model import LogisticRegression, LogisticRegressionCV\n",
    "from sklearn.metrics import accuracy_score, confusion_matrix, classification_report, f1_score, roc_auc_score, roc_curve, recall_score, precision_score\n",
    "from sklearn.preprocessing import StandardScaler\n",
    "from sklearn.ensemble import RandomForestClassifier\n",
    "from sklearn.model_selection import GridSearchCV\n",
    "from imblearn.over_sampling import SMOTE\n",
    "from sklearn.model_selection import cross_val_score\n",
    "\n",
    "warnings.filterwarnings('ignore')\n",
    "%matplotlib inline"
   ]
  },
  {
   "cell_type": "code",
   "execution_count": 12,
   "metadata": {},
   "outputs": [],
   "source": [
    "### Importing the combined data set\n",
    "\n",
    "df = pd.read_csv('Data/bank-additional-combined.csv')"
   ]
  },
  {
   "attachments": {},
   "cell_type": "markdown",
   "metadata": {},
   "source": [
    "### *Exploratory Data Analysis*"
   ]
  },
  {
   "cell_type": "code",
   "execution_count": 13,
   "metadata": {},
   "outputs": [
    {
     "data": {
      "image/png": "[encoded data removed]",
      "text/plain": [
       "<Figure size 500x300 with 1 Axes>"
      ]
     },
     "metadata": {},
     "output_type": "display_data"
    }
   ],
   "source": [
    "### Visualizing the amount of 'unknown' values in a bar chart\n",
    "\n",
    "unknowns = df.isin(['unknown']).sum()\n",
    "unknowns = unknowns[unknowns > 0]\n",
    "unknowns = unknowns.sort_values(ascending=False)\n",
    "\n",
    "plt.figure(figsize=(5, 3))\n",
    "sns.set_style('darkgrid')\n",
    "sns.barplot(x=unknowns.index, y=unknowns.values, palette='Blues_d')\n",
    "plt.xticks(rotation=90)\n",
    "plt.title('Amount of Unknown Values in Each Column', fontsize=8)\n",
    "plt.xlabel('Column', fontsize=6)\n",
    "plt.ylabel('Amount of Unknown Values', fontsize=6)\n",
    "plt.show()"
   ]
  },
  {
   "attachments": {},
   "cell_type": "markdown",
   "metadata": {},
   "source": [
    "### *Data Cleaning Functions*"
   ]
  },
  {
   "cell_type": "code",
   "execution_count": 14,
   "metadata": {},
   "outputs": [],
   "source": [
    "### Casting job, martial, education, default, housing, loan, contact, month, day_of_week, poutcome, and y to categorical variables\n",
    "\n",
    "columns_to_categorize = ['job', 'marital', 'education', 'default', 'housing', 'loan', 'contact', 'month', 'day_of_week', 'poutcome', 'y']\n",
    "\n",
    "def cast_as_columns(df):\n",
    "    for column in columns_to_categorize:\n",
    "        df[column] = df[column].astype('category')\n",
    "    return df\n",
    "\n",
    "### Writing a function that provides ordinal encoding for education, in order of: unknown, illiterate, basic.4y, basic.6y, basic.9y, high.school, professional.course, university.degree\n",
    "\n",
    "def ordinal_encode_education(df):\n",
    "    df['education'] = df['education'].cat.reorder_categories(['unknown', 'illiterate', 'basic.4y', 'basic.6y', 'basic.9y', 'high.school', 'professional.course', 'university.degree'])\n",
    "    df['education'] = df['education'].cat.codes\n",
    "    return df\n",
    "\n",
    "### Writing a function that drops duration, as it is not known before a call is made\n",
    "\n",
    "def drop_duration(df):\n",
    "    df = df.drop('duration', axis=1)\n",
    "    return df\n",
    "\n",
    "### Writing a function that encodes the target variable, y, as 0 for no and 1 for yes\n",
    "\n",
    "def encode_target(df):\n",
    "    df['y'] = df['y'].cat.codes\n",
    "    return df\n",
    "\n",
    "### Writing a function that combines the above functions\n",
    "\n",
    "def clean_data(df):\n",
    "    df = cast_as_columns(df)\n",
    "    df = ordinal_encode_education(df)\n",
    "    df = drop_duration(df)\n",
    "    df = encode_target(df)\n",
    "    return df"
   ]
  },
  {
   "attachments": {},
   "cell_type": "markdown",
   "metadata": {},
   "source": [
    "### *Data Cleaning and Segmentation*"
   ]
  },
  {
   "cell_type": "code",
   "execution_count": 15,
   "metadata": {},
   "outputs": [],
   "source": [
    "### Writing a function that has splits the data into a client dataframe, a campaign dataframe, and an external factors dataframe\n",
    "\n",
    "client_columns = ['age', 'job', 'marital', 'education', 'default', 'housing', 'loan', 'y']\n",
    "campaign_columns = ['contact', 'month', 'day_of_week', 'campaign', 'pdays', 'previous', 'poutcome', 'y']\n",
    "external_columns = ['emp.var.rate', 'cons.price.idx', 'cons.conf.idx', 'euribor3m', 'nr.employed', 'y']\n",
    "\n",
    "def split_data(df):\n",
    "    client_df = df[client_columns]\n",
    "    campaign_df = df[campaign_columns]\n",
    "    external_df = df[external_columns]\n",
    "    return client_df, campaign_df, external_df\n",
    "\n",
    "### Writing a function that one-hot encodes only the categorical variables in a dataframe, except for 'y'\n",
    "\n",
    "def one_hot_encode(df):\n",
    "    df_encoded = df.drop('y', axis=1)\n",
    "    df_encoded = pd.get_dummies(df_encoded, drop_first=True)\n",
    "    df_encoded['y'] = df['y']\n",
    "    df = df_encoded\n",
    "    return df\n",
    "\n"
   ]
  },
  {
   "cell_type": "code",
   "execution_count": 16,
   "metadata": {},
   "outputs": [],
   "source": [
    "### Applying the segmentation function to the data set\n",
    "\n",
    "client_df, campaign_df, external_df = split_data(clean_data(df))\n",
    "\n",
    "### One-hot encoding each of the dataframes\n",
    "\n",
    "client_df = one_hot_encode(client_df)\n",
    "campaign_df = one_hot_encode(campaign_df)\n",
    "external_df = one_hot_encode(external_df)"
   ]
  },
  {
   "attachments": {},
   "cell_type": "markdown",
   "metadata": {},
   "source": [
    "### *Segment: Client data Predictive Power Analysis*"
   ]
  },
  {
   "cell_type": "code",
   "execution_count": 17,
   "metadata": {},
   "outputs": [],
   "source": [
    "### Performing a train-test split on the client dataframe\n",
    "\n",
    "X = client_df.drop('y', axis=1)\n",
    "y = client_df['y']\n",
    "\n",
    "X_train, X_test, y_train, y_test = train_test_split(X, y, test_size=0.2, random_state=42)"
   ]
  },
  {
   "attachments": {},
   "cell_type": "markdown",
   "metadata": {},
   "source": [
    "### *Training Data Transformation*"
   ]
  },
  {
   "cell_type": "code",
   "execution_count": 18,
   "metadata": {},
   "outputs": [],
   "source": [
    "### SMOTE-ing the target variable in the training set\n",
    "\n",
    "sm = SMOTE(random_state=42)\n",
    "X_train, y_train = sm.fit_resample(X_train, y_train)"
   ]
  },
  {
   "cell_type": "code",
   "execution_count": null,
   "metadata": {},
   "outputs": [],
   "source": [
    "### "
   ]
  },
  {
   "cell_type": "code",
   "execution_count": null,
   "metadata": {},
   "outputs": [],
   "source": []
  },
  {
   "attachments": {},
   "cell_type": "markdown",
   "metadata": {},
   "source": [
    "### *Model Performance on Training Set*"
   ]
  },
  {
   "cell_type": "code",
   "execution_count": 27,
   "metadata": {},
   "outputs": [
    {
     "name": "stdout",
     "output_type": "stream",
     "text": [
      "Accuracy Score:  0.679982343853454\n",
      "F1 Score:  0.2408376963350785\n",
      "Recall Score:  0.44834307992202727\n",
      "Precision Score:  0.164638511095204\n"
     ]
    },
    {
     "data": {
      "image/png": "[encoded data removed]",
      "text/plain": [
       "<Figure size 500x300 with 2 Axes>"
      ]
     },
     "metadata": {},
     "output_type": "display_data"
    }
   ],
   "source": [
    "### Fitting the training data to a random forest classifier\n",
    "\n",
    "rfc = RandomForestClassifier(random_state=42)\n",
    "rfc.fit(X_train, y_train)\n",
    "\n",
    "### Predicting the test data\n",
    "\n",
    "y_pred = rfc.predict(X_test)\n",
    "\n",
    "### Evaluating the model\n",
    "\n",
    "print('Accuracy Score: ', accuracy_score(y_test, y_pred))\n",
    "print('F1 Score: ', f1_score(y_test, y_pred))\n",
    "print('Recall Score: ', recall_score(y_test, y_pred))\n",
    "print('Precision Score: ', precision_score(y_test, y_pred))\n",
    "\n",
    "### Plotting the confusion matrix using seaborn\n",
    "\n",
    "cm = confusion_matrix(y_test, y_pred)\n",
    "cm_df = pd.DataFrame(cm, index=['No', 'Yes'], columns=['No', 'Yes'])\n",
    "\n",
    "plt.figure(figsize=(5, 3))\n",
    "sns.set_style('darkgrid')\n",
    "sns.heatmap(cm_df, annot=True, fmt='g', cmap='Blues')\n",
    "plt.title('Confusion Matrix', fontsize=8)\n",
    "plt.xlabel('Predicted', fontsize=6)\n",
    "plt.ylabel('Actual', fontsize=6)\n",
    "plt.show()\n"
   ]
  },
  {
   "cell_type": "code",
   "execution_count": 28,
   "metadata": {},
   "outputs": [
    {
     "name": "stdout",
     "output_type": "stream",
     "text": [
      "Fitting 3 folds for each of 1000 candidates, totalling 3000 fits\n",
      "{'max_depth': 40, 'min_samples_leaf': 1, 'min_samples_split': 5, 'n_estimators': 400}\n"
     ]
    }
   ],
   "source": [
    "### Performing a grid search to find the best parameters for the random forest classifier\n",
    "\n",
    "# Fitting 3 folds for each of 1000 candidates, totalling 3000 fits\n",
    "# {'max_depth': 40, 'min_samples_leaf': 1, 'min_samples_split': 5, 'n_estimators': 400}"
   ]
  },
  {
   "attachments": {},
   "cell_type": "markdown",
   "metadata": {},
   "source": [
    "### *Model Performance on Test Set*"
   ]
  },
  {
   "cell_type": "code",
   "execution_count": 21,
   "metadata": {},
   "outputs": [
    {
     "name": "stdout",
     "output_type": "stream",
     "text": [
      "Accuracy:  0.65393952769808\n",
      "Recall:  0.45419103313840153\n",
      "Precision:  0.1531886916502301\n",
      "F1 Score:  0.22910521140609635\n",
      "ROC AUC Score:  0.5668167709246015\n"
     ]
    },
    {
     "data": {
      "image/png": "[encoded data removed]",
      "text/plain": [
       "<Figure size 500x300 with 2 Axes>"
      ]
     },
     "metadata": {},
     "output_type": "display_data"
    }
   ],
   "source": [
    "### Testing the model on the test set and getting the accuracy, recall, precision, and shows the confusion matrix in seaborn\n",
    "\n",
    "y_pred = model.predict(X_test)\n",
    "\n",
    "print('Accuracy: ', accuracy_score(y_test, y_pred))\n",
    "print('Recall: ', recall_score(y_test, y_pred))\n",
    "print('Precision: ', precision_score(y_test, y_pred))\n",
    "print('F1 Score: ', f1_score(y_test, y_pred))\n",
    "print('ROC AUC Score: ', roc_auc_score(y_test, y_pred))\n",
    "\n",
    "cm = confusion_matrix(y_test, y_pred)\n",
    "cm_df = pd.DataFrame(cm, columns=['Predicted No', 'Predicted Yes'], index=['Actual No', 'Actual Yes'])\n",
    "\n",
    "plt.figure(figsize=(5, 3))\n",
    "sns.heatmap(cm_df, annot=True, fmt='g', cmap='Blues')\n",
    "plt.title('Confusion Matrix', fontsize=8)\n",
    "plt.xlabel('Predicted', fontsize=6)\n",
    "plt.ylabel('Actual', fontsize=6)\n",
    "plt.show()"
   ]
  }
 ],
 "metadata": {
  "kernelspec": {
   "display_name": "Python 3",
   "language": "python",
   "name": "python3"
  },
  "language_info": {
   "codemirror_mode": {
    "name": "ipython",
    "version": 3
   },
   "file_extension": ".py",
   "mimetype": "text/x-python",
   "name": "python",
   "nbconvert_exporter": "python",
   "pygments_lexer": "ipython3",
   "version": "3.11.0"
  },
  "orig_nbformat": 4
 },
 "nbformat": 4,
 "nbformat_minor": 2
}

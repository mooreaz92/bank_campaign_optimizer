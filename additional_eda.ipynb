{
 "cells": [
  {
   "attachments": {},
   "cell_type": "markdown",
   "metadata": {},
   "source": [
    "# Capstone - Optimizing Bank Marketing Campaigns with Machine Learning"
   ]
  },
  {
   "attachments": {},
   "cell_type": "markdown",
   "metadata": {},
   "source": [
    "### *Importing Libraries and Data*"
   ]
  },
  {
   "cell_type": "code",
   "execution_count": 27,
   "metadata": {},
   "outputs": [],
   "source": [
    "### Importing relevant libraries\n",
    "\n",
    "import pandas as pd\n",
    "import numpy as np\n",
    "import matplotlib.pyplot as plt\n",
    "import seaborn as sns\n",
    "import warnings\n",
    "from sklearn.model_selection import train_test_split\n",
    "from sklearn.linear_model import LogisticRegression, LogisticRegressionCV\n",
    "from sklearn.metrics import accuracy_score, confusion_matrix, classification_report, f1_score, roc_auc_score, roc_curve, recall_score, precision_score\n",
    "from sklearn.preprocessing import StandardScaler\n",
    "from sklearn.ensemble import RandomForestClassifier\n",
    "from imblearn.over_sampling import SMOTE\n",
    "from sklearn.model_selection import GridSearchCV\n",
    "\n",
    "warnings.filterwarnings('ignore')\n",
    "%matplotlib inline"
   ]
  },
  {
   "cell_type": "code",
   "execution_count": 28,
   "metadata": {},
   "outputs": [],
   "source": [
    "### Importing the combined data set\n",
    "\n",
    "df = pd.read_csv('Data/bank-additional-combined.csv')"
   ]
  },
  {
   "attachments": {},
   "cell_type": "markdown",
   "metadata": {},
   "source": [
    "### *Data Cleaning Functions (making clean_data)*"
   ]
  },
  {
   "cell_type": "code",
   "execution_count": 29,
   "metadata": {},
   "outputs": [],
   "source": [
    "### Casting job, martial, education, default, housing, loan, contact, month, day_of_week, poutcome, and y to categorical variables\n",
    "\n",
    "columns_to_categorize = ['job', 'marital', 'education', 'default', 'housing', 'loan', 'contact', 'month', 'day_of_week', 'poutcome', 'y']\n",
    "\n",
    "def cast_as_columns(df):\n",
    "    for column in columns_to_categorize:\n",
    "        df[column] = df[column].astype('category')\n",
    "    return df\n",
    "\n",
    "### Writing a function that provides ordinal encoding for education, in order of: unknown, illiterate, basic.4y, basic.6y, basic.9y, high.school, professional.course, university.degree\n",
    "\n",
    "def ordinal_encode_education(df):\n",
    "    df['education'] = df['education'].cat.reorder_categories(['unknown', 'illiterate', 'basic.4y', 'basic.6y', 'basic.9y', 'high.school', 'professional.course', 'university.degree'])\n",
    "    df['education'] = df['education'].cat.codes\n",
    "    return df\n",
    "\n",
    "### Writing a function that drops duration, as it is not known before a call is made\n",
    "\n",
    "def drop_duration(df):\n",
    "    df = df.drop('duration', axis=1)\n",
    "    return df\n",
    "\n",
    "### Writing a function that encodes the target variable, y, as 0 for no and 1 for yes\n",
    "\n",
    "def encode_target(df):\n",
    "    df['y'] = df['y'].cat.codes\n",
    "    return df\n",
    "\n",
    "### Writing a function that combines the above functions\n",
    "\n",
    "def clean_data(df):\n",
    "    df = cast_as_columns(df)\n",
    "    df = ordinal_encode_education(df)\n",
    "    df = drop_duration(df)\n",
    "    df = encode_target(df)\n",
    "    return df\n",
    "\n",
    "### Writing a function that one-hot encodes the categorical variables\n",
    "\n",
    "def one_hot_encode(df):\n",
    "    df_encoded = df.drop('y', axis=1)\n",
    "    df_encoded = pd.get_dummies(df_encoded, drop_first=True)\n",
    "    df_encoded['y'] = df['y']\n",
    "    df = df_encoded\n",
    "    return df"
   ]
  },
  {
   "cell_type": "code",
   "execution_count": 31,
   "metadata": {},
   "outputs": [],
   "source": [
    "### Applying the above functions to the data set\n",
    "\n",
    "df = clean_data(df)\n",
    "df = one_hot_encode(df)"
   ]
  },
  {
   "cell_type": "code",
   "execution_count": 32,
   "metadata": {},
   "outputs": [],
   "source": [
    "### Making a function for model evaluation\n",
    "\n",
    "def evaluate_model(model, X_train, y_train, X_test, y_test):\n",
    "    \"\"\"\n",
    "    Takes in training and testing data and a model and prints out the accuracy, \n",
    "    f1, recall, and precision scores for both the training and testing data.\n",
    "    \"\"\"\n",
    "    model.fit(X_train, y_train)\n",
    "    y_train_pred = model.predict(X_train)\n",
    "    y_test_pred = model.predict(X_test)\n",
    "    print('Training Accuracy Score: ', accuracy_score(y_train, y_train_pred))\n",
    "    print('Training F1 Score: ', f1_score(y_train, y_train_pred))\n",
    "    print('Training Recall Score: ', recall_score(y_train, y_train_pred))\n",
    "    print('Training Precision Score: ', precision_score(y_train, y_train_pred))\n",
    "    print('Test Accuracy Score: ', accuracy_score(y_test, y_test_pred))\n",
    "    print('Test F1 Score: ', f1_score(y_test, y_test_pred))\n",
    "    print('Test Recall Score: ', recall_score(y_test, y_test_pred))\n",
    "    print('Test Precision Score: ', precision_score(y_test, y_test_pred))"
   ]
  },
  {
   "attachments": {},
   "cell_type": "markdown",
   "metadata": {},
   "source": [
    "### *Performing a train-test split*"
   ]
  },
  {
   "cell_type": "code",
   "execution_count": 33,
   "metadata": {},
   "outputs": [],
   "source": [
    "### Performing a train-test split\n",
    "\n",
    "X = df.drop('y', axis=1)\n",
    "y = df['y']\n",
    "\n",
    "X_train, X_test, y_train, y_test = train_test_split(X, y, random_state=42)"
   ]
  },
  {
   "attachments": {},
   "cell_type": "markdown",
   "metadata": {},
   "source": [
    "### *Modeling: Random Forest*"
   ]
  },
  {
   "cell_type": "code",
   "execution_count": 40,
   "metadata": {},
   "outputs": [
    {
     "name": "stdout",
     "output_type": "stream",
     "text": [
      "Training Accuracy Score:  0.9949970570924073\n",
      "Training F1 Score:  0.977536997885835\n",
      "Training Recall Score:  0.9655442443226312\n",
      "Training Precision Score:  0.9898314155739898\n",
      "Test Accuracy Score:  0.9087136929460581\n",
      "Test F1 Score:  0.4951171875000001\n",
      "Test Recall Score:  0.4023809523809524\n",
      "Test Precision Score:  0.6434010152284264\n"
     ]
    }
   ],
   "source": [
    "### Making a random forest model\n",
    "\n",
    "rf = RandomForestClassifier(max_depth=50, n_estimators=100, random_state=42)\n",
    "\n",
    "### Evaluating the random forest model\n",
    "\n",
    "evaluate_model(rf, X_train, y_train, X_test, y_test)"
   ]
  },
  {
   "cell_type": "code",
   "execution_count": 37,
   "metadata": {},
   "outputs": [
    {
     "name": "stdout",
     "output_type": "stream",
     "text": [
      "Fitting 5 folds for each of 135 candidates, totalling 675 fits\n"
     ]
    },
    {
     "data": {
      "text/plain": [
       "0.46490659236880705"
      ]
     },
     "execution_count": 37,
     "metadata": {},
     "output_type": "execute_result"
    }
   ],
   "source": [
    "### Performing a grid search tuned to the f1 score\n",
    "\n",
    "params = {\n",
    "    'n_estimators': [300, 400, 500],\n",
    "    'max_depth': [30, 35, 40, 45, 50],\n",
    "    'min_samples_split': [2, 5, 10],\n",
    "    'min_samples_leaf': [1, 2, 5]\n",
    "}\n",
    "\n",
    "gs = GridSearchCV(rf, param_grid=params, scoring='f1', cv=5, verbose=1, n_jobs=-1)\n",
    "\n",
    "gs.fit(X_train, y_train)\n",
    "\n",
    "### Printing the best parameters\n",
    "\n",
    "gs.best_params_\n",
    "\n",
    "### Printing the best score\n",
    "\n",
    "gs.best_score_"
   ]
  },
  {
   "cell_type": "code",
   "execution_count": 38,
   "metadata": {},
   "outputs": [
    {
     "data": {
      "text/plain": [
       "{'max_depth': 30,\n",
       " 'min_samples_leaf': 1,\n",
       " 'min_samples_split': 2,\n",
       " 'n_estimators': 500}"
      ]
     },
     "execution_count": 38,
     "metadata": {},
     "output_type": "execute_result"
    }
   ],
   "source": [
    "gs.best_params_"
   ]
  },
  {
   "cell_type": "code",
   "execution_count": null,
   "metadata": {},
   "outputs": [],
   "source": []
  }
 ],
 "metadata": {
  "kernelspec": {
   "display_name": "Python 3",
   "language": "python",
   "name": "python3"
  },
  "language_info": {
   "codemirror_mode": {
    "name": "ipython",
    "version": 3
   },
   "file_extension": ".py",
   "mimetype": "text/x-python",
   "name": "python",
   "nbconvert_exporter": "python",
   "pygments_lexer": "ipython3",
   "version": "3.11.0"
  },
  "orig_nbformat": 4
 },
 "nbformat": 4,
 "nbformat_minor": 2
}
